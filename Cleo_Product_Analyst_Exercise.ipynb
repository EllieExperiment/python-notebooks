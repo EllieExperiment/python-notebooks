{
 "cells": [
  {
   "cell_type": "markdown",
   "metadata": {},
   "source": [
    "## Cleo Product Analyst Exercise"
   ]
  },
  {
   "cell_type": "code",
   "execution_count": 1,
   "metadata": {},
   "outputs": [],
   "source": [
    "import psycopg2\n",
    "import time\n",
    "import pandas as pd\n",
    "import matplotlib.pyplot as plt\n",
    "%matplotlib inline\n",
    "import numpy as np\n",
    "from scipy import stats\n",
    "import seaborn as sns; sns.set(style=\"ticks\", color_codes=True)\n",
    "import nbconvert\n",
    "from IPython.display import HTML, display, Math, Latex, Image\n",
    "import sqlite3"
   ]
  },
  {
   "cell_type": "code",
   "execution_count": 2,
   "metadata": {},
   "outputs": [
    {
     "data": {
      "text/html": [
       "\n",
       "<script>code_show=true; function code_toggle(){if (code_show){$('div.input').hide();}else{$('div.input').show();}code_show=!code_show}$( document ).ready(code_toggle);</script>\n",
       "The RAW CODE for this IPython notebook is by default hidden for easier reading.</BR>\n",
       "</BR>\n",
       "---> RAW CODE TOGGLE: <a href=\"javascript:code_toggle()\">CLICK HERE</a>"
      ],
      "text/plain": [
       "<IPython.core.display.HTML object>"
      ]
     },
     "execution_count": 2,
     "metadata": {},
     "output_type": "execute_result"
    }
   ],
   "source": [
    "HTML('''<script src='https://cdnjs.cloudflare.com/ajax/libs/mathjax/2.7.5/MathJax.js?config=TeX-MML-AM_CHTML' async></script>''')\n",
    "HTML('''\n",
    "<script>code_show=true; function code_toggle(){if (code_show){$('div.input').hide();}else{$('div.input').show();}code_show=!code_show}$( document ).ready(code_toggle);</script>\n",
    "The RAW CODE for this IPython notebook is by default hidden for easier reading.</BR>\n",
    "</BR>\n",
    "---> RAW CODE TOGGLE: <a href=\"javascript:code_toggle()\">CLICK HERE</a>''')"
   ]
  },
  {
   "cell_type": "markdown",
   "metadata": {},
   "source": [
    "## Part 1: \n",
    "* 1.1 Import Data and Metric Definitions\n",
    "* 1.2 Setup Metrics\n"
   ]
  },
  {
   "cell_type": "markdown",
   "metadata": {},
   "source": [
    "### 1.1.1 Import  and Clean User and Activity Data\n",
    "Query the following data to analyse retention\n",
    "Table 1 = cleo_users.csv\n",
    "Table 2 = cleo_user_activity.csv\n",
    "\n",
    "New Fields added in SQL  \n",
    "* activity = Count of the number of times that user was active (int)\n",
    "* budget_created = Did the user id create a budget \n",
    "* autosave_created  = Did the user id setup auto save\n",
    "* subscription_created  = Did the user id create a paid subscription\n",
    "\n",
    "### 1.1.2 SQL Query Used:\n",
    "    SELECT DISTINCT\n",
    "        cu.id AS id,\n",
    "        DATE(substr(created_at, 7) || \"-\" || substr(created_at,4,2) || \"-\" || substr(created_at, 1,2)) AS signup_date,\n",
    "        DATE(cua.active_date) AS active_date,\n",
    "        COUNT(cua.active_date) over (partition by cu.id) as activity,\n",
    "        cu.user_country AS user_country,\n",
    "        cu.age AS age,\n",
    "        cu.campaign_source AS campaign_source,\n",
    "        cu.device AS device,\n",
    "        cu.budget_created_at AS budget_created_at,\n",
    "        cu.autosave_created_at AS autosave_created_at,\n",
    "        cu.subscription_created_at AS subscription_created_at,\n",
    "        CASE WHEN (cu.budget_created_at IS NULL) THEN 0 ELSE 1 END AS budget_created,\n",
    "        CASE WHEN (cu.autosave_created_at IS NULL) THEN 0 ELSE 1 END AS autosave_created,\n",
    "        CASE WHEN (cu.subscription_created_at IS NULL) THEN 0 ELSE 1 END AS subscription_created\n",
    "        FROM cleo_users cu\n",
    "      JOIN cleo_user_activity cua\n",
    "    ON cu.id = cua.user_id;"
   ]
  },
  {
   "cell_type": "code",
   "execution_count": 3,
   "metadata": {},
   "outputs": [],
   "source": [
    "#read the CSVs\n",
    "cleo_df1 = pd.read_csv('cleo_users.csv')\n",
    "cleo_df2 = pd.read_csv('cleo_user_activity.csv')"
   ]
  },
  {
   "cell_type": "code",
   "execution_count": 4,
   "metadata": {},
   "outputs": [],
   "source": [
    "#connect to a database\n",
    "#conn=psycopg2.connect(\"dbname='dbo1' user='dbuser' host='localhost' password='dbpass'\")\n",
    "conn = sqlite3.connect(\"cleo_data.db\") #if the db does not exist, this creates a file in the current directory\n",
    "#store your table in the database:\n",
    "cleo_df1.to_sql('cleo_users', conn)\n",
    "cleo_df2.to_sql('cleo_user_activity', conn)"
   ]
  },
  {
   "cell_type": "code",
   "execution_count": 5,
   "metadata": {},
   "outputs": [],
   "source": [
    "#read a SQL Query out of your database and into a pandas dataframe\n",
    "#sql_string = 'SELECT * FROM experimentdoe02_table'\n",
    "\n",
    "sql_string = \"\"\"\n",
    "    SELECT DISTINCT\n",
    "        cu.id AS id,\n",
    "        DATE(substr(created_at, 7) || \"-\" || substr(created_at,4,2) || \"-\" || substr(created_at, 1,2)) AS signup_date,\n",
    "        DATE(cua.active_date) AS active_date,\n",
    "        COUNT(cua.active_date) over (partition by cu.id) as activity,\n",
    "        cu.user_country AS user_country,\n",
    "        cu.age AS age,\n",
    "        cu.campaign_source AS campaign_source,\n",
    "        cu.device AS device,\n",
    "        cu.budget_created_at AS budget_created_at,\n",
    "        cu.autosave_created_at AS autosave_created_at,\n",
    "        cu.subscription_created_at AS subscription_created_at,\n",
    "        CASE WHEN (cu.budget_created_at IS NULL) THEN 0 ELSE 1 END AS budget_created,\n",
    "        CASE WHEN (cu.autosave_created_at IS NULL) THEN 0 ELSE 1 END AS autosave_created,\n",
    "        CASE WHEN (cu.subscription_created_at IS NULL) THEN 0 ELSE 1 END AS subscription_created\n",
    "        FROM cleo_users cu\n",
    "      JOIN cleo_user_activity cua\n",
    "    ON cu.id = cua.user_id;\n",
    "\"\"\"\n",
    "cleo_data_df = pd.read_sql(sql_string, conn)\n"
   ]
  },
  {
   "cell_type": "code",
   "execution_count": 6,
   "metadata": {},
   "outputs": [
    {
     "data": {
      "text/html": [
       "<div>\n",
       "<style scoped>\n",
       "    .dataframe tbody tr th:only-of-type {\n",
       "        vertical-align: middle;\n",
       "    }\n",
       "\n",
       "    .dataframe tbody tr th {\n",
       "        vertical-align: top;\n",
       "    }\n",
       "\n",
       "    .dataframe thead th {\n",
       "        text-align: right;\n",
       "    }\n",
       "</style>\n",
       "<table border=\"1\" class=\"dataframe\">\n",
       "  <thead>\n",
       "    <tr style=\"text-align: right;\">\n",
       "      <th></th>\n",
       "      <th>id</th>\n",
       "      <th>signup_date</th>\n",
       "      <th>active_date</th>\n",
       "      <th>activity</th>\n",
       "      <th>user_country</th>\n",
       "      <th>age</th>\n",
       "      <th>campaign_source</th>\n",
       "      <th>device</th>\n",
       "      <th>budget_created_at</th>\n",
       "      <th>autosave_created_at</th>\n",
       "      <th>subscription_created_at</th>\n",
       "      <th>budget_created</th>\n",
       "      <th>autosave_created</th>\n",
       "      <th>subscription_created</th>\n",
       "    </tr>\n",
       "  </thead>\n",
       "  <tbody>\n",
       "    <tr>\n",
       "      <th>0</th>\n",
       "      <td>856160</td>\n",
       "      <td>2019-01-01</td>\n",
       "      <td>2019-01-01</td>\n",
       "      <td>94</td>\n",
       "      <td>GB</td>\n",
       "      <td>21</td>\n",
       "      <td>Influencer</td>\n",
       "      <td>messenger</td>\n",
       "      <td>None</td>\n",
       "      <td>None</td>\n",
       "      <td>None</td>\n",
       "      <td>0</td>\n",
       "      <td>0</td>\n",
       "      <td>0</td>\n",
       "    </tr>\n",
       "    <tr>\n",
       "      <th>1</th>\n",
       "      <td>856160</td>\n",
       "      <td>2019-01-01</td>\n",
       "      <td>2019-01-02</td>\n",
       "      <td>94</td>\n",
       "      <td>GB</td>\n",
       "      <td>21</td>\n",
       "      <td>Influencer</td>\n",
       "      <td>messenger</td>\n",
       "      <td>None</td>\n",
       "      <td>None</td>\n",
       "      <td>None</td>\n",
       "      <td>0</td>\n",
       "      <td>0</td>\n",
       "      <td>0</td>\n",
       "    </tr>\n",
       "    <tr>\n",
       "      <th>2</th>\n",
       "      <td>856160</td>\n",
       "      <td>2019-01-01</td>\n",
       "      <td>2019-01-06</td>\n",
       "      <td>94</td>\n",
       "      <td>GB</td>\n",
       "      <td>21</td>\n",
       "      <td>Influencer</td>\n",
       "      <td>messenger</td>\n",
       "      <td>None</td>\n",
       "      <td>None</td>\n",
       "      <td>None</td>\n",
       "      <td>0</td>\n",
       "      <td>0</td>\n",
       "      <td>0</td>\n",
       "    </tr>\n",
       "    <tr>\n",
       "      <th>3</th>\n",
       "      <td>856160</td>\n",
       "      <td>2019-01-01</td>\n",
       "      <td>2019-01-08</td>\n",
       "      <td>94</td>\n",
       "      <td>GB</td>\n",
       "      <td>21</td>\n",
       "      <td>Influencer</td>\n",
       "      <td>messenger</td>\n",
       "      <td>None</td>\n",
       "      <td>None</td>\n",
       "      <td>None</td>\n",
       "      <td>0</td>\n",
       "      <td>0</td>\n",
       "      <td>0</td>\n",
       "    </tr>\n",
       "    <tr>\n",
       "      <th>4</th>\n",
       "      <td>856160</td>\n",
       "      <td>2019-01-01</td>\n",
       "      <td>2019-01-09</td>\n",
       "      <td>94</td>\n",
       "      <td>GB</td>\n",
       "      <td>21</td>\n",
       "      <td>Influencer</td>\n",
       "      <td>messenger</td>\n",
       "      <td>None</td>\n",
       "      <td>None</td>\n",
       "      <td>None</td>\n",
       "      <td>0</td>\n",
       "      <td>0</td>\n",
       "      <td>0</td>\n",
       "    </tr>\n",
       "  </tbody>\n",
       "</table>\n",
       "</div>"
      ],
      "text/plain": [
       "       id signup_date active_date  activity user_country  age campaign_source  \\\n",
       "0  856160  2019-01-01  2019-01-01        94           GB   21      Influencer   \n",
       "1  856160  2019-01-01  2019-01-02        94           GB   21      Influencer   \n",
       "2  856160  2019-01-01  2019-01-06        94           GB   21      Influencer   \n",
       "3  856160  2019-01-01  2019-01-08        94           GB   21      Influencer   \n",
       "4  856160  2019-01-01  2019-01-09        94           GB   21      Influencer   \n",
       "\n",
       "      device budget_created_at autosave_created_at subscription_created_at  \\\n",
       "0  messenger              None                None                    None   \n",
       "1  messenger              None                None                    None   \n",
       "2  messenger              None                None                    None   \n",
       "3  messenger              None                None                    None   \n",
       "4  messenger              None                None                    None   \n",
       "\n",
       "   budget_created  autosave_created  subscription_created  \n",
       "0               0                 0                     0  \n",
       "1               0                 0                     0  \n",
       "2               0                 0                     0  \n",
       "3               0                 0                     0  \n",
       "4               0                 0                     0  "
      ]
     },
     "execution_count": 6,
     "metadata": {},
     "output_type": "execute_result"
    }
   ],
   "source": [
    "cleo_data_df.head()"
   ]
  },
  {
   "cell_type": "code",
   "execution_count": 7,
   "metadata": {},
   "outputs": [
    {
     "name": "stdout",
     "output_type": "stream",
     "text": [
      "<class 'pandas.core.frame.DataFrame'>\n",
      "RangeIndex: 431311 entries, 0 to 431310\n",
      "Data columns (total 14 columns):\n",
      " #   Column                   Non-Null Count   Dtype         \n",
      "---  ------                   --------------   -----         \n",
      " 0   id                       431311 non-null  int64         \n",
      " 1   signup_date              431311 non-null  datetime64[ns]\n",
      " 2   active_date              431311 non-null  datetime64[ns]\n",
      " 3   activity                 431311 non-null  int64         \n",
      " 4   user_country             431311 non-null  object        \n",
      " 5   age                      431311 non-null  int64         \n",
      " 6   campaign_source          431311 non-null  object        \n",
      " 7   device                   431311 non-null  object        \n",
      " 8   budget_created_at        256998 non-null  datetime64[ns]\n",
      " 9   autosave_created_at      64094 non-null   datetime64[ns]\n",
      " 10  subscription_created_at  140078 non-null  datetime64[ns]\n",
      " 11  budget_created           431311 non-null  int64         \n",
      " 12  autosave_created         431311 non-null  int64         \n",
      " 13  subscription_created     431311 non-null  int64         \n",
      "dtypes: datetime64[ns](5), int64(6), object(3)\n",
      "memory usage: 46.1+ MB\n"
     ]
    }
   ],
   "source": [
    "cleo_data_df['signup_date'] = pd.to_datetime(cleo_data_df['signup_date'])\n",
    "cleo_data_df['active_date'] = pd.to_datetime(cleo_data_df['active_date'])\n",
    "cleo_data_df['budget_created_at'] = pd.to_datetime(cleo_data_df['budget_created_at'])\n",
    "cleo_data_df['autosave_created_at'] = pd.to_datetime(cleo_data_df['autosave_created_at'])\n",
    "cleo_data_df['subscription_created_at'] = pd.to_datetime(cleo_data_df['subscription_created_at'])\n",
    "cleo_data_df.info()"
   ]
  },
  {
   "cell_type": "markdown",
   "metadata": {},
   "source": [
    "### 1.2 Setup Metrics And Definitions\n",
    "Create a new column called seniority which indicates how old was the user on that day that they visited the app\n",
    "\n",
    "* seniority = Activity Date - Sign-up Date -> in days (int)\n",
    "* seniority_m = Activity Date  - Sign-up Date -> in months (int)\n",
    "* signup_m_y = Month and Year of Sign-up date in order to group by YYYY-MM for creating retention heatmap"
   ]
  },
  {
   "cell_type": "code",
   "execution_count": 8,
   "metadata": {},
   "outputs": [],
   "source": [
    "cleo_data_df['seniority'] = (cleo_data_df['active_date'] - cleo_data_df['signup_date']).dt.days + 1"
   ]
  },
  {
   "cell_type": "code",
   "execution_count": 9,
   "metadata": {},
   "outputs": [
    {
     "name": "stdout",
     "output_type": "stream",
     "text": [
      "Earliest Activity Date in the data is:\n",
      "Latest Activity Date in the data is:\n"
     ]
    },
    {
     "data": {
      "text/plain": [
       "Timestamp('2020-02-07 00:00:00')"
      ]
     },
     "execution_count": 9,
     "metadata": {},
     "output_type": "execute_result"
    }
   ],
   "source": [
    "print('Earliest Activity Date in the data is:')\n",
    "min(cleo_data_df['active_date'])\n",
    "print('Latest Activity Date in the data is:')\n",
    "max(cleo_data_df['active_date'])"
   ]
  },
  {
   "cell_type": "code",
   "execution_count": 10,
   "metadata": {},
   "outputs": [
    {
     "name": "stdout",
     "output_type": "stream",
     "text": [
      "Earliest Sign-up Date in the data is:\n",
      "Latest Sign-up Date in the data is:\n"
     ]
    },
    {
     "data": {
      "text/plain": [
       "Timestamp('2019-08-31 00:00:00')"
      ]
     },
     "execution_count": 10,
     "metadata": {},
     "output_type": "execute_result"
    }
   ],
   "source": [
    "print('Earliest Sign-up Date in the data is:')\n",
    "min(cleo_data_df['signup_date'])\n",
    "print('Latest Sign-up Date in the data is:')\n",
    "max(cleo_data_df['signup_date'])"
   ]
  },
  {
   "cell_type": "markdown",
   "metadata": {},
   "source": [
    "Data covers a large period of time and daily granularity makes the graph plot very difficult to read, therefore we shall use retention over monthly period, instead of daily.\n",
    "\n",
    "#### 1.2.1 Create a period column based on the Sign-up Date¶\n",
    "Since we're doing monthly cohorts, we'll be looking at the total monthly behavior of users. Therefore, we don't want daily data (right now). Create a new column called signup_m_y which is the year and month in which the user signed up.\n",
    "\n",
    "    cleo_data_df['signup_m_y'] = pd.to_datetime(cleo_data_df['signup_date']).dt.to_period('M')"
   ]
  },
  {
   "cell_type": "code",
   "execution_count": 11,
   "metadata": {},
   "outputs": [],
   "source": [
    "cleo_data_df['signup_m_y'] = pd.to_datetime(cleo_data_df['signup_date']).dt.to_period('M')"
   ]
  },
  {
   "cell_type": "markdown",
   "metadata": {},
   "source": [
    "#### 1.2.2 Determine the user's cohort group (based on when they signed up)\n",
    "Create a new column called seniority_m which indicates how old was the user on that day that they visited the app\n",
    "\n",
    "    cleo_data_df['seniority_m'] = ((cleo_data_df['active_date'] - cleo_data_df['signup_date']) / np.timedelta64(1, 'M')).astype(int)+1"
   ]
  },
  {
   "cell_type": "code",
   "execution_count": 12,
   "metadata": {},
   "outputs": [],
   "source": [
    "cleo_data_df['seniority_m'] = ((cleo_data_df['active_date'] - cleo_data_df['signup_date']) / np.timedelta64(1, 'M')).astype(int)+1"
   ]
  },
  {
   "cell_type": "code",
   "execution_count": 13,
   "metadata": {},
   "outputs": [
    {
     "name": "stdout",
     "output_type": "stream",
     "text": [
      "<class 'pandas.core.frame.DataFrame'>\n",
      "RangeIndex: 431311 entries, 0 to 431310\n",
      "Data columns (total 17 columns):\n",
      " #   Column                   Non-Null Count   Dtype         \n",
      "---  ------                   --------------   -----         \n",
      " 0   id                       431311 non-null  int64         \n",
      " 1   signup_date              431311 non-null  datetime64[ns]\n",
      " 2   active_date              431311 non-null  datetime64[ns]\n",
      " 3   activity                 431311 non-null  int64         \n",
      " 4   user_country             431311 non-null  object        \n",
      " 5   age                      431311 non-null  int64         \n",
      " 6   campaign_source          431311 non-null  object        \n",
      " 7   device                   431311 non-null  object        \n",
      " 8   budget_created_at        256998 non-null  datetime64[ns]\n",
      " 9   autosave_created_at      64094 non-null   datetime64[ns]\n",
      " 10  subscription_created_at  140078 non-null  datetime64[ns]\n",
      " 11  budget_created           431311 non-null  int64         \n",
      " 12  autosave_created         431311 non-null  int64         \n",
      " 13  subscription_created     431311 non-null  int64         \n",
      " 14  seniority                431311 non-null  int64         \n",
      " 15  signup_m_y               431311 non-null  period[M]     \n",
      " 16  seniority_m              431311 non-null  int64         \n",
      "dtypes: datetime64[ns](5), int64(8), object(3), period[M](1)\n",
      "memory usage: 55.9+ MB\n"
     ]
    }
   ],
   "source": [
    "cleo_data_df.info()"
   ]
  },
  {
   "cell_type": "markdown",
   "metadata": {},
   "source": [
    "#### 1.2.3 Rollup data into cohorts\n",
    "Since we're looking at monthly cohorts, we need to aggregate users by their sign-up month and seniority of their activity"
   ]
  },
  {
   "cell_type": "code",
   "execution_count": 14,
   "metadata": {},
   "outputs": [],
   "source": [
    "group = cleo_data_df.groupby(['signup_m_y', 'seniority_m'])"
   ]
  },
  {
   "cell_type": "code",
   "execution_count": 15,
   "metadata": {},
   "outputs": [],
   "source": [
    "cohort_data = group['id'].size()"
   ]
  },
  {
   "cell_type": "code",
   "execution_count": 16,
   "metadata": {},
   "outputs": [
    {
     "data": {
      "text/html": [
       "<div>\n",
       "<style scoped>\n",
       "    .dataframe tbody tr th:only-of-type {\n",
       "        vertical-align: middle;\n",
       "    }\n",
       "\n",
       "    .dataframe tbody tr th {\n",
       "        vertical-align: top;\n",
       "    }\n",
       "\n",
       "    .dataframe thead th {\n",
       "        text-align: right;\n",
       "    }\n",
       "</style>\n",
       "<table border=\"1\" class=\"dataframe\">\n",
       "  <thead>\n",
       "    <tr style=\"text-align: right;\">\n",
       "      <th></th>\n",
       "      <th>signup_m_y</th>\n",
       "      <th>seniority_m</th>\n",
       "      <th>id</th>\n",
       "    </tr>\n",
       "  </thead>\n",
       "  <tbody>\n",
       "    <tr>\n",
       "      <th>0</th>\n",
       "      <td>2019-01</td>\n",
       "      <td>1</td>\n",
       "      <td>26115</td>\n",
       "    </tr>\n",
       "    <tr>\n",
       "      <th>1</th>\n",
       "      <td>2019-01</td>\n",
       "      <td>2</td>\n",
       "      <td>12516</td>\n",
       "    </tr>\n",
       "    <tr>\n",
       "      <th>2</th>\n",
       "      <td>2019-01</td>\n",
       "      <td>3</td>\n",
       "      <td>10030</td>\n",
       "    </tr>\n",
       "    <tr>\n",
       "      <th>3</th>\n",
       "      <td>2019-01</td>\n",
       "      <td>4</td>\n",
       "      <td>8892</td>\n",
       "    </tr>\n",
       "    <tr>\n",
       "      <th>4</th>\n",
       "      <td>2019-01</td>\n",
       "      <td>5</td>\n",
       "      <td>6973</td>\n",
       "    </tr>\n",
       "    <tr>\n",
       "      <th>...</th>\n",
       "      <td>...</td>\n",
       "      <td>...</td>\n",
       "      <td>...</td>\n",
       "    </tr>\n",
       "    <tr>\n",
       "      <th>79</th>\n",
       "      <td>2019-08</td>\n",
       "      <td>3</td>\n",
       "      <td>3031</td>\n",
       "    </tr>\n",
       "    <tr>\n",
       "      <th>80</th>\n",
       "      <td>2019-08</td>\n",
       "      <td>4</td>\n",
       "      <td>1947</td>\n",
       "    </tr>\n",
       "    <tr>\n",
       "      <th>81</th>\n",
       "      <td>2019-08</td>\n",
       "      <td>5</td>\n",
       "      <td>1251</td>\n",
       "    </tr>\n",
       "    <tr>\n",
       "      <th>82</th>\n",
       "      <td>2019-08</td>\n",
       "      <td>6</td>\n",
       "      <td>775</td>\n",
       "    </tr>\n",
       "    <tr>\n",
       "      <th>83</th>\n",
       "      <td>2019-08</td>\n",
       "      <td>7</td>\n",
       "      <td>31</td>\n",
       "    </tr>\n",
       "  </tbody>\n",
       "</table>\n",
       "<p>84 rows × 3 columns</p>\n",
       "</div>"
      ],
      "text/plain": [
       "   signup_m_y  seniority_m     id\n",
       "0     2019-01            1  26115\n",
       "1     2019-01            2  12516\n",
       "2     2019-01            3  10030\n",
       "3     2019-01            4   8892\n",
       "4     2019-01            5   6973\n",
       "..        ...          ...    ...\n",
       "79    2019-08            3   3031\n",
       "80    2019-08            4   1947\n",
       "81    2019-08            5   1251\n",
       "82    2019-08            6    775\n",
       "83    2019-08            7     31\n",
       "\n",
       "[84 rows x 3 columns]"
      ]
     },
     "execution_count": 16,
     "metadata": {},
     "output_type": "execute_result"
    }
   ],
   "source": [
    "cohort_data = cohort_data.reset_index()\n",
    "cohort_data"
   ]
  },
  {
   "cell_type": "markdown",
   "metadata": {},
   "source": [
    "#### 1.2.4 Pivot the data to calculate user counts\n",
    "Create a pivot table with\n",
    "- signup as the rows - each row respresenting a given cohort of users who signed up in a specific month\n",
    "- seniority as the columns - this allows us to see how much user activity decays for a given cohort by looking from left to right for a specific row:"
   ]
  },
  {
   "cell_type": "code",
   "execution_count": 17,
   "metadata": {},
   "outputs": [
    {
     "data": {
      "text/html": [
       "<div>\n",
       "<style scoped>\n",
       "    .dataframe tbody tr th:only-of-type {\n",
       "        vertical-align: middle;\n",
       "    }\n",
       "\n",
       "    .dataframe tbody tr th {\n",
       "        vertical-align: top;\n",
       "    }\n",
       "\n",
       "    .dataframe thead th {\n",
       "        text-align: right;\n",
       "    }\n",
       "</style>\n",
       "<table border=\"1\" class=\"dataframe\">\n",
       "  <thead>\n",
       "    <tr style=\"text-align: right;\">\n",
       "      <th>seniority_m</th>\n",
       "      <th>1</th>\n",
       "      <th>2</th>\n",
       "      <th>3</th>\n",
       "      <th>4</th>\n",
       "      <th>5</th>\n",
       "      <th>6</th>\n",
       "      <th>7</th>\n",
       "      <th>8</th>\n",
       "      <th>9</th>\n",
       "      <th>10</th>\n",
       "      <th>11</th>\n",
       "      <th>12</th>\n",
       "      <th>13</th>\n",
       "      <th>14</th>\n",
       "    </tr>\n",
       "    <tr>\n",
       "      <th>signup_m_y</th>\n",
       "      <th></th>\n",
       "      <th></th>\n",
       "      <th></th>\n",
       "      <th></th>\n",
       "      <th></th>\n",
       "      <th></th>\n",
       "      <th></th>\n",
       "      <th></th>\n",
       "      <th></th>\n",
       "      <th></th>\n",
       "      <th></th>\n",
       "      <th></th>\n",
       "      <th></th>\n",
       "      <th></th>\n",
       "    </tr>\n",
       "  </thead>\n",
       "  <tbody>\n",
       "    <tr>\n",
       "      <th>2019-01</th>\n",
       "      <td>26115.0</td>\n",
       "      <td>12516.0</td>\n",
       "      <td>10030.0</td>\n",
       "      <td>8892.0</td>\n",
       "      <td>6973.0</td>\n",
       "      <td>5889.0</td>\n",
       "      <td>5037.0</td>\n",
       "      <td>3342.0</td>\n",
       "      <td>2548.0</td>\n",
       "      <td>3046.0</td>\n",
       "      <td>2412.0</td>\n",
       "      <td>2180.0</td>\n",
       "      <td>1345.0</td>\n",
       "      <td>56.0</td>\n",
       "    </tr>\n",
       "    <tr>\n",
       "      <th>2019-02</th>\n",
       "      <td>19801.0</td>\n",
       "      <td>10125.0</td>\n",
       "      <td>9080.0</td>\n",
       "      <td>6527.0</td>\n",
       "      <td>5766.0</td>\n",
       "      <td>4390.0</td>\n",
       "      <td>3377.0</td>\n",
       "      <td>2339.0</td>\n",
       "      <td>2634.0</td>\n",
       "      <td>2341.0</td>\n",
       "      <td>1662.0</td>\n",
       "      <td>1388.0</td>\n",
       "      <td>28.0</td>\n",
       "      <td>NaN</td>\n",
       "    </tr>\n",
       "    <tr>\n",
       "      <th>2019-03</th>\n",
       "      <td>24650.0</td>\n",
       "      <td>15252.0</td>\n",
       "      <td>11107.0</td>\n",
       "      <td>8756.0</td>\n",
       "      <td>6972.0</td>\n",
       "      <td>5445.0</td>\n",
       "      <td>3784.0</td>\n",
       "      <td>3711.0</td>\n",
       "      <td>3141.0</td>\n",
       "      <td>2346.0</td>\n",
       "      <td>1878.0</td>\n",
       "      <td>125.0</td>\n",
       "      <td>NaN</td>\n",
       "      <td>NaN</td>\n",
       "    </tr>\n",
       "    <tr>\n",
       "      <th>2019-04</th>\n",
       "      <td>15967.0</td>\n",
       "      <td>8716.0</td>\n",
       "      <td>6865.0</td>\n",
       "      <td>5032.0</td>\n",
       "      <td>3806.0</td>\n",
       "      <td>2559.0</td>\n",
       "      <td>2418.0</td>\n",
       "      <td>1862.0</td>\n",
       "      <td>1421.0</td>\n",
       "      <td>1165.0</td>\n",
       "      <td>51.0</td>\n",
       "      <td>NaN</td>\n",
       "      <td>NaN</td>\n",
       "      <td>NaN</td>\n",
       "    </tr>\n",
       "    <tr>\n",
       "      <th>2019-05</th>\n",
       "      <td>8793.0</td>\n",
       "      <td>5232.0</td>\n",
       "      <td>3955.0</td>\n",
       "      <td>2691.0</td>\n",
       "      <td>1947.0</td>\n",
       "      <td>1446.0</td>\n",
       "      <td>1199.0</td>\n",
       "      <td>863.0</td>\n",
       "      <td>629.0</td>\n",
       "      <td>49.0</td>\n",
       "      <td>NaN</td>\n",
       "      <td>NaN</td>\n",
       "      <td>NaN</td>\n",
       "      <td>NaN</td>\n",
       "    </tr>\n",
       "    <tr>\n",
       "      <th>2019-06</th>\n",
       "      <td>21372.0</td>\n",
       "      <td>10008.0</td>\n",
       "      <td>6710.0</td>\n",
       "      <td>4081.0</td>\n",
       "      <td>2947.0</td>\n",
       "      <td>2030.0</td>\n",
       "      <td>1646.0</td>\n",
       "      <td>980.0</td>\n",
       "      <td>24.0</td>\n",
       "      <td>NaN</td>\n",
       "      <td>NaN</td>\n",
       "      <td>NaN</td>\n",
       "      <td>NaN</td>\n",
       "      <td>NaN</td>\n",
       "    </tr>\n",
       "    <tr>\n",
       "      <th>2019-07</th>\n",
       "      <td>14760.0</td>\n",
       "      <td>7317.0</td>\n",
       "      <td>4854.0</td>\n",
       "      <td>3041.0</td>\n",
       "      <td>2332.0</td>\n",
       "      <td>1424.0</td>\n",
       "      <td>983.0</td>\n",
       "      <td>48.0</td>\n",
       "      <td>NaN</td>\n",
       "      <td>NaN</td>\n",
       "      <td>NaN</td>\n",
       "      <td>NaN</td>\n",
       "      <td>NaN</td>\n",
       "      <td>NaN</td>\n",
       "    </tr>\n",
       "    <tr>\n",
       "      <th>2019-08</th>\n",
       "      <td>11048.0</td>\n",
       "      <td>4999.0</td>\n",
       "      <td>3031.0</td>\n",
       "      <td>1947.0</td>\n",
       "      <td>1251.0</td>\n",
       "      <td>775.0</td>\n",
       "      <td>31.0</td>\n",
       "      <td>NaN</td>\n",
       "      <td>NaN</td>\n",
       "      <td>NaN</td>\n",
       "      <td>NaN</td>\n",
       "      <td>NaN</td>\n",
       "      <td>NaN</td>\n",
       "      <td>NaN</td>\n",
       "    </tr>\n",
       "  </tbody>\n",
       "</table>\n",
       "</div>"
      ],
      "text/plain": [
       "seniority_m       1        2        3       4       5       6       7   \\\n",
       "signup_m_y                                                               \n",
       "2019-01      26115.0  12516.0  10030.0  8892.0  6973.0  5889.0  5037.0   \n",
       "2019-02      19801.0  10125.0   9080.0  6527.0  5766.0  4390.0  3377.0   \n",
       "2019-03      24650.0  15252.0  11107.0  8756.0  6972.0  5445.0  3784.0   \n",
       "2019-04      15967.0   8716.0   6865.0  5032.0  3806.0  2559.0  2418.0   \n",
       "2019-05       8793.0   5232.0   3955.0  2691.0  1947.0  1446.0  1199.0   \n",
       "2019-06      21372.0  10008.0   6710.0  4081.0  2947.0  2030.0  1646.0   \n",
       "2019-07      14760.0   7317.0   4854.0  3041.0  2332.0  1424.0   983.0   \n",
       "2019-08      11048.0   4999.0   3031.0  1947.0  1251.0   775.0    31.0   \n",
       "\n",
       "seniority_m      8       9       10      11      12      13    14  \n",
       "signup_m_y                                                         \n",
       "2019-01      3342.0  2548.0  3046.0  2412.0  2180.0  1345.0  56.0  \n",
       "2019-02      2339.0  2634.0  2341.0  1662.0  1388.0    28.0   NaN  \n",
       "2019-03      3711.0  3141.0  2346.0  1878.0   125.0     NaN   NaN  \n",
       "2019-04      1862.0  1421.0  1165.0    51.0     NaN     NaN   NaN  \n",
       "2019-05       863.0   629.0    49.0     NaN     NaN     NaN   NaN  \n",
       "2019-06       980.0    24.0     NaN     NaN     NaN     NaN   NaN  \n",
       "2019-07        48.0     NaN     NaN     NaN     NaN     NaN   NaN  \n",
       "2019-08         NaN     NaN     NaN     NaN     NaN     NaN   NaN  "
      ]
     },
     "execution_count": 17,
     "metadata": {},
     "output_type": "execute_result"
    }
   ],
   "source": [
    "cohort_counts = cohort_data.pivot(index='signup_m_y', columns='seniority_m', values='id')\n",
    "cohort_counts"
   ]
  },
  {
   "cell_type": "code",
   "execution_count": 18,
   "metadata": {},
   "outputs": [],
   "source": [
    "base = cohort_counts[1]"
   ]
  },
  {
   "cell_type": "markdown",
   "metadata": {},
   "source": [
    "#### 1.2.5 Calculate Absolute Retention Rate\n",
    "Apply the divide method to our cohort_counts, dividing it by the base number of users in column 1 of the cohort\n",
    "This gives a set of raw/absolute numbers for retention:"
   ]
  },
  {
   "cell_type": "code",
   "execution_count": 19,
   "metadata": {},
   "outputs": [
    {
     "data": {
      "text/html": [
       "<div>\n",
       "<style scoped>\n",
       "    .dataframe tbody tr th:only-of-type {\n",
       "        vertical-align: middle;\n",
       "    }\n",
       "\n",
       "    .dataframe tbody tr th {\n",
       "        vertical-align: top;\n",
       "    }\n",
       "\n",
       "    .dataframe thead th {\n",
       "        text-align: right;\n",
       "    }\n",
       "</style>\n",
       "<table border=\"1\" class=\"dataframe\">\n",
       "  <thead>\n",
       "    <tr style=\"text-align: right;\">\n",
       "      <th>seniority_m</th>\n",
       "      <th>1</th>\n",
       "      <th>2</th>\n",
       "      <th>3</th>\n",
       "      <th>4</th>\n",
       "      <th>5</th>\n",
       "      <th>6</th>\n",
       "      <th>7</th>\n",
       "      <th>8</th>\n",
       "      <th>9</th>\n",
       "      <th>10</th>\n",
       "      <th>11</th>\n",
       "      <th>12</th>\n",
       "      <th>13</th>\n",
       "      <th>14</th>\n",
       "    </tr>\n",
       "    <tr>\n",
       "      <th>signup_m_y</th>\n",
       "      <th></th>\n",
       "      <th></th>\n",
       "      <th></th>\n",
       "      <th></th>\n",
       "      <th></th>\n",
       "      <th></th>\n",
       "      <th></th>\n",
       "      <th></th>\n",
       "      <th></th>\n",
       "      <th></th>\n",
       "      <th></th>\n",
       "      <th></th>\n",
       "      <th></th>\n",
       "      <th></th>\n",
       "    </tr>\n",
       "  </thead>\n",
       "  <tbody>\n",
       "    <tr>\n",
       "      <th>2019-01</th>\n",
       "      <td>1.0</td>\n",
       "      <td>0.479</td>\n",
       "      <td>0.384</td>\n",
       "      <td>0.340</td>\n",
       "      <td>0.267</td>\n",
       "      <td>0.226</td>\n",
       "      <td>0.193</td>\n",
       "      <td>0.128</td>\n",
       "      <td>0.098</td>\n",
       "      <td>0.117</td>\n",
       "      <td>0.092</td>\n",
       "      <td>0.083</td>\n",
       "      <td>0.052</td>\n",
       "      <td>0.002</td>\n",
       "    </tr>\n",
       "    <tr>\n",
       "      <th>2019-02</th>\n",
       "      <td>1.0</td>\n",
       "      <td>0.511</td>\n",
       "      <td>0.459</td>\n",
       "      <td>0.330</td>\n",
       "      <td>0.291</td>\n",
       "      <td>0.222</td>\n",
       "      <td>0.171</td>\n",
       "      <td>0.118</td>\n",
       "      <td>0.133</td>\n",
       "      <td>0.118</td>\n",
       "      <td>0.084</td>\n",
       "      <td>0.070</td>\n",
       "      <td>0.001</td>\n",
       "      <td>NaN</td>\n",
       "    </tr>\n",
       "    <tr>\n",
       "      <th>2019-03</th>\n",
       "      <td>1.0</td>\n",
       "      <td>0.619</td>\n",
       "      <td>0.451</td>\n",
       "      <td>0.355</td>\n",
       "      <td>0.283</td>\n",
       "      <td>0.221</td>\n",
       "      <td>0.154</td>\n",
       "      <td>0.151</td>\n",
       "      <td>0.127</td>\n",
       "      <td>0.095</td>\n",
       "      <td>0.076</td>\n",
       "      <td>0.005</td>\n",
       "      <td>NaN</td>\n",
       "      <td>NaN</td>\n",
       "    </tr>\n",
       "    <tr>\n",
       "      <th>2019-04</th>\n",
       "      <td>1.0</td>\n",
       "      <td>0.546</td>\n",
       "      <td>0.430</td>\n",
       "      <td>0.315</td>\n",
       "      <td>0.238</td>\n",
       "      <td>0.160</td>\n",
       "      <td>0.151</td>\n",
       "      <td>0.117</td>\n",
       "      <td>0.089</td>\n",
       "      <td>0.073</td>\n",
       "      <td>0.003</td>\n",
       "      <td>NaN</td>\n",
       "      <td>NaN</td>\n",
       "      <td>NaN</td>\n",
       "    </tr>\n",
       "    <tr>\n",
       "      <th>2019-05</th>\n",
       "      <td>1.0</td>\n",
       "      <td>0.595</td>\n",
       "      <td>0.450</td>\n",
       "      <td>0.306</td>\n",
       "      <td>0.221</td>\n",
       "      <td>0.164</td>\n",
       "      <td>0.136</td>\n",
       "      <td>0.098</td>\n",
       "      <td>0.072</td>\n",
       "      <td>0.006</td>\n",
       "      <td>NaN</td>\n",
       "      <td>NaN</td>\n",
       "      <td>NaN</td>\n",
       "      <td>NaN</td>\n",
       "    </tr>\n",
       "    <tr>\n",
       "      <th>2019-06</th>\n",
       "      <td>1.0</td>\n",
       "      <td>0.468</td>\n",
       "      <td>0.314</td>\n",
       "      <td>0.191</td>\n",
       "      <td>0.138</td>\n",
       "      <td>0.095</td>\n",
       "      <td>0.077</td>\n",
       "      <td>0.046</td>\n",
       "      <td>0.001</td>\n",
       "      <td>NaN</td>\n",
       "      <td>NaN</td>\n",
       "      <td>NaN</td>\n",
       "      <td>NaN</td>\n",
       "      <td>NaN</td>\n",
       "    </tr>\n",
       "    <tr>\n",
       "      <th>2019-07</th>\n",
       "      <td>1.0</td>\n",
       "      <td>0.496</td>\n",
       "      <td>0.329</td>\n",
       "      <td>0.206</td>\n",
       "      <td>0.158</td>\n",
       "      <td>0.096</td>\n",
       "      <td>0.067</td>\n",
       "      <td>0.003</td>\n",
       "      <td>NaN</td>\n",
       "      <td>NaN</td>\n",
       "      <td>NaN</td>\n",
       "      <td>NaN</td>\n",
       "      <td>NaN</td>\n",
       "      <td>NaN</td>\n",
       "    </tr>\n",
       "    <tr>\n",
       "      <th>2019-08</th>\n",
       "      <td>1.0</td>\n",
       "      <td>0.452</td>\n",
       "      <td>0.274</td>\n",
       "      <td>0.176</td>\n",
       "      <td>0.113</td>\n",
       "      <td>0.070</td>\n",
       "      <td>0.003</td>\n",
       "      <td>NaN</td>\n",
       "      <td>NaN</td>\n",
       "      <td>NaN</td>\n",
       "      <td>NaN</td>\n",
       "      <td>NaN</td>\n",
       "      <td>NaN</td>\n",
       "      <td>NaN</td>\n",
       "    </tr>\n",
       "  </tbody>\n",
       "</table>\n",
       "</div>"
      ],
      "text/plain": [
       "seniority_m   1      2      3      4      5      6      7      8      9   \\\n",
       "signup_m_y                                                                 \n",
       "2019-01      1.0  0.479  0.384  0.340  0.267  0.226  0.193  0.128  0.098   \n",
       "2019-02      1.0  0.511  0.459  0.330  0.291  0.222  0.171  0.118  0.133   \n",
       "2019-03      1.0  0.619  0.451  0.355  0.283  0.221  0.154  0.151  0.127   \n",
       "2019-04      1.0  0.546  0.430  0.315  0.238  0.160  0.151  0.117  0.089   \n",
       "2019-05      1.0  0.595  0.450  0.306  0.221  0.164  0.136  0.098  0.072   \n",
       "2019-06      1.0  0.468  0.314  0.191  0.138  0.095  0.077  0.046  0.001   \n",
       "2019-07      1.0  0.496  0.329  0.206  0.158  0.096  0.067  0.003    NaN   \n",
       "2019-08      1.0  0.452  0.274  0.176  0.113  0.070  0.003    NaN    NaN   \n",
       "\n",
       "seniority_m     10     11     12     13     14  \n",
       "signup_m_y                                      \n",
       "2019-01      0.117  0.092  0.083  0.052  0.002  \n",
       "2019-02      0.118  0.084  0.070  0.001    NaN  \n",
       "2019-03      0.095  0.076  0.005    NaN    NaN  \n",
       "2019-04      0.073  0.003    NaN    NaN    NaN  \n",
       "2019-05      0.006    NaN    NaN    NaN    NaN  \n",
       "2019-06        NaN    NaN    NaN    NaN    NaN  \n",
       "2019-07        NaN    NaN    NaN    NaN    NaN  \n",
       "2019-08        NaN    NaN    NaN    NaN    NaN  "
      ]
     },
     "execution_count": 19,
     "metadata": {},
     "output_type": "execute_result"
    }
   ],
   "source": [
    "retention = cohort_counts.divide(base, axis=0).round(3)\n",
    "retention"
   ]
  },
  {
   "cell_type": "markdown",
   "metadata": {},
   "source": [
    "### 1.3 Plot Retention Rate Percentage Over time (left to right) segmented by cohort (month of signup)\n",
    "\n",
    "Finally, we can plot the cohorts over time in an effort to spot behavioral differences or similarities. \n",
    "\n",
    "Notice that the first period of each cohort is 100% -- this is because our cohorts are based on each user's first sign-up, as it is based on everyone in the cohort signed-up who signed up that month (their month 1).\n",
    "\n",
    "This plot shows that retention rates were better for users who signed up in March - May of last year, possibly due to Marketing Campaignn, release of product features or push notifications in the user's second month of using Cleo.\n",
    "However, by their third month of using Cleo, their retention rate decayed to the same level as the other cohorts (~30-35%), meaning the boost in activity for these cohorts was short lived."
   ]
  },
  {
   "cell_type": "code",
   "execution_count": 20,
   "metadata": {},
   "outputs": [
    {
     "data": {
      "image/png": "[encoded data removed]",
      "text/plain": [
       "<Figure size 1296x1008 with 2 Axes>"
      ]
     },
     "metadata": {},
     "output_type": "display_data"
    }
   ],
   "source": [
    "plt.figure(figsize=(18,14))\n",
    "plt.title('Retention Table')\n",
    "ax = sns.heatmap(data=retention, annot=True, fmt='.0%', vmin=0.0, vmax=1,cmap='Blues')\n",
    "ax.set_yticklabels(retention.index)\n",
    "fig=ax.get_figure()\n",
    "fig.savefig(\"Retention_Rate.png\")\n",
    "plt.show()"
   ]
  },
  {
   "cell_type": "markdown",
   "metadata": {},
   "source": [
    "## Part 2 - Segmentation\n",
    "\n",
    "#### Part 2.1 - simple user segments\n",
    "Review the amount that user activity decays by over time, by segment, including:\n",
    "* 2.1.1 user_country\n",
    "* 2.1.2 age\n",
    "* 2.1.3 campaign_source\n",
    "* 2.1.4 device\n",
    "\n",
    "The Data are aggregated across cohorts to show how overall activity decays over time for each user segment, regardless of sign-up month.\n",
    "With more time, I would want to dive into these segments more deeply, and see if they are a predictor for user activity or subscription rates.\n",
    "It would also be beneficial to run an RFM analysis( RFM stands for Recency - Frequency - Monetary Value) \n",
    "similar to the following: https://towardsdatascience.com/data-driven-growth-with-python-part-2-customer-segmentation-5c019d150444"
   ]
  },
  {
   "cell_type": "code",
   "execution_count": 21,
   "metadata": {},
   "outputs": [],
   "source": [
    "#cleo_data_df.info()"
   ]
  },
  {
   "cell_type": "code",
   "execution_count": 22,
   "metadata": {},
   "outputs": [],
   "source": [
    "#all3group = cleo_data_df.groupby(['budget_created','autosave_created','subscription_created'])['id'].size().unstack('budget_created').fillna(0)\n",
    "#all3group.plot(kind='bar', stacked=True)"
   ]
  },
  {
   "cell_type": "code",
   "execution_count": 23,
   "metadata": {},
   "outputs": [],
   "source": [
    "#all3group2 = cleo_data_df.groupby(['budget_created','autosave_created','subscription_created'])['id'].size().unstack('subscription_created').fillna(0)\n",
    "#all3group2.plot(kind='bar', stacked=True)"
   ]
  },
  {
   "cell_type": "markdown",
   "metadata": {},
   "source": [
    "#### 2.1.1 user_country\n",
    "More users sign up in the UK then the US\n",
    "Churn of users in the US is noticeably faster, fewer US users are returning after 6months"
   ]
  },
  {
   "cell_type": "code",
   "execution_count": 24,
   "metadata": {},
   "outputs": [
    {
     "data": {
      "text/plain": [
       "<matplotlib.axes._subplots.AxesSubplot at 0x1a28cf5fd0>"
      ]
     },
     "execution_count": 24,
     "metadata": {},
     "output_type": "execute_result"
    },
    {
     "data": {
      "image/png": "[encoded data removed]",
      "text/plain": [
       "<Figure size 432x288 with 1 Axes>"
      ]
     },
     "metadata": {},
     "output_type": "display_data"
    }
   ],
   "source": [
    "activitygroup4 = cleo_data_df.groupby(['seniority_m','user_country'])['id'].size().unstack('user_country').fillna(0)\n",
    "activitygroup4.plot(kind='bar', stacked=True)"
   ]
  },
  {
   "cell_type": "markdown",
   "metadata": {},
   "source": [
    "#### 2.1.2 age\n",
    "Users Under 35 and Under 25 are the largest user groups to sign up\n",
    "These users also churn less than the other groups."
   ]
  },
  {
   "cell_type": "code",
   "execution_count": 25,
   "metadata": {},
   "outputs": [],
   "source": [
    "newdf = cleo_data_df.copy()\n",
    "agecategory = pd.cut(newdf.age,bins=[18,25,35,45,55,65,75],labels=['<25','<35','<45','<55','<65','<75'])\n",
    "newdf.insert(8,'AgeGroup',agecategory)"
   ]
  },
  {
   "cell_type": "code",
   "execution_count": 26,
   "metadata": {},
   "outputs": [
    {
     "data": {
      "text/plain": [
       "<matplotlib.axes._subplots.AxesSubplot at 0x1a34b12048>"
      ]
     },
     "execution_count": 26,
     "metadata": {},
     "output_type": "execute_result"
    },
    {
     "data": {
      "image/png": "[encoded data removed]",
      "text/plain": [
       "<Figure size 432x288 with 1 Axes>"
      ]
     },
     "metadata": {},
     "output_type": "display_data"
    }
   ],
   "source": [
    "activitygroup2 = newdf.groupby(['seniority_m','AgeGroup'])['id'].size().unstack('AgeGroup').fillna(0)\n",
    "activitygroup2.plot(kind='bar', stacked=True) "
   ]
  },
  {
   "cell_type": "markdown",
   "metadata": {},
   "source": [
    "#### 2.1.3 campaign_source\n",
    "This plot shows that in the first month of sign up, most users are influencers\n",
    "However, churn in influences is very high in the first month after sign up\n",
    "Retention after 6 months is higher in the other 3 campaign source groups"
   ]
  },
  {
   "cell_type": "code",
   "execution_count": 27,
   "metadata": {},
   "outputs": [
    {
     "data": {
      "text/plain": [
       "<matplotlib.axes._subplots.AxesSubplot at 0x1a37d08fd0>"
      ]
     },
     "execution_count": 27,
     "metadata": {},
     "output_type": "execute_result"
    },
    {
     "data": {
      "image/png": "[encoded data removed]",
      "text/plain": [
       "<Figure size 432x288 with 1 Axes>"
      ]
     },
     "metadata": {},
     "output_type": "display_data"
    }
   ],
   "source": [
    "activitygroup1 = cleo_data_df.groupby(['seniority_m','campaign_source'])['id'].size().unstack('campaign_source').fillna(0)\n",
    "activitygroup1.plot(kind='bar', stacked=True)"
   ]
  },
  {
   "cell_type": "markdown",
   "metadata": {},
   "source": [
    "#### 2.1.4 device\n",
    "Most users sign up on messenger\n",
    "Retention for ios and messenger users is higher"
   ]
  },
  {
   "cell_type": "code",
   "execution_count": 28,
   "metadata": {},
   "outputs": [
    {
     "data": {
      "text/plain": [
       "<matplotlib.axes._subplots.AxesSubplot at 0x1a38bfa9e8>"
      ]
     },
     "execution_count": 28,
     "metadata": {},
     "output_type": "execute_result"
    },
    {
     "data": {
      "image/png": "[encoded data removed]",
      "text/plain": [
       "<Figure size 432x288 with 1 Axes>"
      ]
     },
     "metadata": {},
     "output_type": "display_data"
    }
   ],
   "source": [
    "activitygroup3 = cleo_data_df.groupby(['seniority_m','device'])['id'].size().unstack('device').fillna(0)\n",
    "activitygroup3.plot(kind='bar', stacked=True) "
   ]
  },
  {
   "cell_type": "code",
   "execution_count": 29,
   "metadata": {},
   "outputs": [],
   "source": [
    "cleo_data_df['subscribe_level'] = cleo_data_df['budget_created'].astype(str) + cleo_data_df['autosave_created'].astype(str) + cleo_data_df['subscription_created'].astype(str) "
   ]
  },
  {
   "cell_type": "markdown",
   "metadata": {},
   "source": [
    "#### Part 3 - Subscription creation segments\n",
    "\n",
    "Finally, take a look at how activity over time also varies by the subscription level a user has:\n",
    "* Do they have a budget setup, and auto saving, and a paid subscription? or none?\n",
    "\n",
    "\n",
    "1. Look at the number of users in each group: \n",
    "* 3.1.1 budget_created\n",
    "* 3.1.2 autosave_created\n",
    "* 3.1.3 subscription_created\n",
    "\n",
    "  \n",
    "2. Look at how the size of the groups changes as the activity in each cohort decays\n"
   ]
  },
  {
   "cell_type": "markdown",
   "metadata": {},
   "source": [
    "#### 2.2.1 budget_created\n",
    "This graphs shows that a lot of users have created a budget"
   ]
  },
  {
   "cell_type": "code",
   "execution_count": 30,
   "metadata": {},
   "outputs": [
    {
     "data": {
      "text/plain": [
       "<matplotlib.axes._subplots.AxesSubplot at 0x1a3925d6a0>"
      ]
     },
     "execution_count": 30,
     "metadata": {},
     "output_type": "execute_result"
    },
    {
     "data": {
      "image/png": "[encoded data removed]",
      "text/plain": [
       "<Figure size 432x288 with 1 Axes>"
      ]
     },
     "metadata": {},
     "output_type": "display_data"
    }
   ],
   "source": [
    "budgetgroup = cleo_data_df.groupby(['budget_created'])\n",
    "budget = budgetgroup['id'].size()\n",
    "budget.plot(kind='bar')"
   ]
  },
  {
   "cell_type": "markdown",
   "metadata": {},
   "source": [
    "#### 2.2.1 autosave_created\n",
    "This indicates very few users have autosave setup"
   ]
  },
  {
   "cell_type": "code",
   "execution_count": 31,
   "metadata": {},
   "outputs": [
    {
     "data": {
      "text/plain": [
       "<matplotlib.axes._subplots.AxesSubplot at 0x1a39419d30>"
      ]
     },
     "execution_count": 31,
     "metadata": {},
     "output_type": "execute_result"
    },
    {
     "data": {
      "image/png": "[encoded data removed]",
      "text/plain": [
       "<Figure size 432x288 with 1 Axes>"
      ]
     },
     "metadata": {},
     "output_type": "display_data"
    }
   ],
   "source": [
    "autosavegroup = cleo_data_df.groupby(['autosave_created',])\n",
    "autosave = autosavegroup['id'].size()\n",
    "autosave.plot(kind='bar')"
   ]
  },
  {
   "cell_type": "markdown",
   "metadata": {},
   "source": [
    "#### 2.2.3 subscription_created\n",
    "This indicates fewer users have a paid subscription"
   ]
  },
  {
   "cell_type": "code",
   "execution_count": 32,
   "metadata": {},
   "outputs": [
    {
     "data": {
      "text/plain": [
       "<matplotlib.axes._subplots.AxesSubplot at 0x1a39739898>"
      ]
     },
     "execution_count": 32,
     "metadata": {},
     "output_type": "execute_result"
    },
    {
     "data": {
      "image/png": "[encoded data removed]",
      "text/plain": [
       "<Figure size 432x288 with 1 Axes>"
      ]
     },
     "metadata": {},
     "output_type": "display_data"
    }
   ],
   "source": [
    "subscriptiongroup = cleo_data_df.groupby(['subscription_created'])\n",
    "subscription = subscriptiongroup['id'].size()\n",
    "subscription.plot(kind='bar')"
   ]
  },
  {
   "cell_type": "markdown",
   "metadata": {},
   "source": [
    "#### Part 3.2 - Subscription level retention\n",
    "\n",
    "2. Look at how the size of the groups changes as the activity in each cohort decays\n",
    "\n",
    "The Subscription status for users were aggregated based on the following groups:"
   ]
  },
  {
   "cell_type": "code",
   "execution_count": 33,
   "metadata": {},
   "outputs": [
    {
     "name": "stdout",
     "output_type": "stream",
     "text": [
      "Subscription Category labels:\n"
     ]
    },
    {
     "data": {
      "text/plain": [
       "['0_None',\n",
       " '1_Budget',\n",
       " '2_Budget,Auto',\n",
       " '4_Subscribed',\n",
       " '3_Autosave',\n",
       " '5_Auto,Subscription',\n",
       " '6_Budget,Subscribed',\n",
       " '7_All']"
      ]
     },
     "execution_count": 33,
     "metadata": {},
     "output_type": "execute_result"
    }
   ],
   "source": [
    "cleo_data_df['subscribe_level'] = cleo_data_df['budget_created'].astype(str) + cleo_data_df['autosave_created'].astype(str) + cleo_data_df['subscription_created'].astype(str) \n",
    "cleo_data_df = cleo_data_df.replace({'subscribe_level' : { '000' : '0_None', '100' : '1_Budget', '110' : '2_Budget,Auto' , '001' : '4_Subscribed' , '010' : '3_Autosave' , '011' : '5_Auto,Subscription' , '101' : '6_Budget,Subscribed' , '111' : '7_All' }})\n",
    "print('Subscription Category labels:')\n",
    "cleo_data_df['subscribe_level'].unique().tolist()"
   ]
  },
  {
   "cell_type": "markdown",
   "metadata": {},
   "source": [
    "#### 3.2 How does subscription level change after initial sign-up?\n",
    "\n",
    "* Relatively few users sign-up with a paid subscription\n",
    "* A large group of user sign-up with a budget or autosave+busget setup\n",
    "* Users with a great level of subscription appear to have better retention rates then the other groups\n",
    "* However, overall users with no features enabled or just budget setup make up the largest proportion of users in each month of seniority."
   ]
  },
  {
   "cell_type": "code",
   "execution_count": 34,
   "metadata": {},
   "outputs": [
    {
     "data": {
      "text/plain": [
       "<matplotlib.axes._subplots.AxesSubplot at 0x1a2994bd68>"
      ]
     },
     "execution_count": 34,
     "metadata": {},
     "output_type": "execute_result"
    },
    {
     "data": {
      "image/png": "[encoded data removed]",
      "text/plain": [
       "<Figure size 432x288 with 1 Axes>"
      ]
     },
     "metadata": {},
     "output_type": "display_data"
    }
   ],
   "source": [
    "activitygroup3 = cleo_data_df.groupby(['seniority_m','subscribe_level'])['id'].size().unstack('subscribe_level').fillna(0)\n",
    "activitygroup3.plot(kind='bar', stacked=True) "
   ]
  },
  {
   "cell_type": "code",
   "execution_count": 35,
   "metadata": {},
   "outputs": [],
   "source": [
    "#all3group = cleo_data_df.groupby(['budget_created','autosave_created','subscription_created'])['id'].size().unstack('budget_created').fillna(0)\n",
    "#all3group.plot(kind='bar', stacked=True)"
   ]
  }
 ],
 "metadata": {
  "kernelspec": {
   "display_name": "Python 3",
   "language": "python",
   "name": "python3"
  },
  "language_info": {
   "codemirror_mode": {
    "name": "ipython",
    "version": 3
   },
   "file_extension": ".py",
   "mimetype": "text/x-python",
   "name": "python",
   "nbconvert_exporter": "python",
   "pygments_lexer": "ipython3",
   "version": "3.6.10"
  }
 },
 "nbformat": 4,
 "nbformat_minor": 1
}
