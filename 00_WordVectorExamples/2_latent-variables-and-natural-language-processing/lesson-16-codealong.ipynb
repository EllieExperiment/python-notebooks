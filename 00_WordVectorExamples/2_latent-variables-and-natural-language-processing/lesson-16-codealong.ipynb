{
 "cells": [
  {
   "cell_type": "markdown",
   "metadata": {},
   "source": [
    "<img src=\"http://imgur.com/1ZcRyrc.png\" style=\"float: left; margin: 20px; height: 55px\">\n",
    "\n",
    "# Lesson 16 - Latent Variables and Natural Language Processing\n",
    "\n",
    "---"
   ]
  },
  {
   "cell_type": "code",
   "execution_count": 1,
   "metadata": {
    "collapsed": true
   },
   "outputs": [],
   "source": [
    "# Imports\n",
    "import json\n",
    "import matplotlib.pyplot as plt\n",
    "import numpy as np\n",
    "import pandas as pd\n",
    "import seaborn as sns\n",
    "%matplotlib inline\n",
    "\n",
    "# Config\n",
    "np.random.seed(1)"
   ]
  },
  {
   "cell_type": "code",
   "execution_count": 23,
   "metadata": {
    "collapsed": true
   },
   "outputs": [],
   "source": [
    "# spacy is used for pre-processing and traditional NLP\n",
    "import spacy\n",
    "from spacy.en import English"
   ]
  },
  {
   "cell_type": "code",
   "execution_count": 3,
   "metadata": {},
   "outputs": [
    {
     "data": {
      "text/html": [
       "<div>\n",
       "<style>\n",
       "    .dataframe thead tr:only-child th {\n",
       "        text-align: right;\n",
       "    }\n",
       "\n",
       "    .dataframe thead th {\n",
       "        text-align: left;\n",
       "    }\n",
       "\n",
       "    .dataframe tbody tr th {\n",
       "        vertical-align: top;\n",
       "    }\n",
       "</style>\n",
       "<table border=\"1\" class=\"dataframe\">\n",
       "  <thead>\n",
       "    <tr style=\"text-align: right;\">\n",
       "      <th></th>\n",
       "      <th>url</th>\n",
       "      <th>urlid</th>\n",
       "      <th>boilerplate</th>\n",
       "      <th>alchemy_category</th>\n",
       "      <th>alchemy_category_score</th>\n",
       "      <th>avglinksize</th>\n",
       "      <th>commonlinkratio_1</th>\n",
       "      <th>commonlinkratio_2</th>\n",
       "      <th>commonlinkratio_3</th>\n",
       "      <th>commonlinkratio_4</th>\n",
       "      <th>...</th>\n",
       "      <th>linkwordscore</th>\n",
       "      <th>news_front_page</th>\n",
       "      <th>non_markup_alphanum_characters</th>\n",
       "      <th>numberOfLinks</th>\n",
       "      <th>numwords_in_url</th>\n",
       "      <th>parametrizedLinkRatio</th>\n",
       "      <th>spelling_errors_ratio</th>\n",
       "      <th>label</th>\n",
       "      <th>title</th>\n",
       "      <th>body</th>\n",
       "    </tr>\n",
       "  </thead>\n",
       "  <tbody>\n",
       "    <tr>\n",
       "      <th>0</th>\n",
       "      <td>http://www.bloomberg.com/news/2010-12-23/ibm-p...</td>\n",
       "      <td>4042</td>\n",
       "      <td>{\"title\":\"IBM Sees Holographic Calls Air Breat...</td>\n",
       "      <td>business</td>\n",
       "      <td>0.789131</td>\n",
       "      <td>2.055556</td>\n",
       "      <td>0.676471</td>\n",
       "      <td>0.205882</td>\n",
       "      <td>0.047059</td>\n",
       "      <td>0.023529</td>\n",
       "      <td>...</td>\n",
       "      <td>24</td>\n",
       "      <td>0</td>\n",
       "      <td>5424</td>\n",
       "      <td>170</td>\n",
       "      <td>8</td>\n",
       "      <td>0.152941</td>\n",
       "      <td>0.079130</td>\n",
       "      <td>0</td>\n",
       "      <td>IBM Sees Holographic Calls Air Breathing Batte...</td>\n",
       "      <td>A sign stands outside the International Busine...</td>\n",
       "    </tr>\n",
       "    <tr>\n",
       "      <th>1</th>\n",
       "      <td>http://www.popsci.com/technology/article/2012-...</td>\n",
       "      <td>8471</td>\n",
       "      <td>{\"title\":\"The Fully Electronic Futuristic Star...</td>\n",
       "      <td>recreation</td>\n",
       "      <td>0.574147</td>\n",
       "      <td>3.677966</td>\n",
       "      <td>0.508021</td>\n",
       "      <td>0.288770</td>\n",
       "      <td>0.213904</td>\n",
       "      <td>0.144385</td>\n",
       "      <td>...</td>\n",
       "      <td>40</td>\n",
       "      <td>0</td>\n",
       "      <td>4973</td>\n",
       "      <td>187</td>\n",
       "      <td>9</td>\n",
       "      <td>0.181818</td>\n",
       "      <td>0.125448</td>\n",
       "      <td>1</td>\n",
       "      <td>The Fully Electronic Futuristic Starting Gun T...</td>\n",
       "      <td>And that can be carried on a plane without the...</td>\n",
       "    </tr>\n",
       "    <tr>\n",
       "      <th>2</th>\n",
       "      <td>http://www.menshealth.com/health/flu-fighting-...</td>\n",
       "      <td>1164</td>\n",
       "      <td>{\"title\":\"Fruits that Fight the Flu fruits tha...</td>\n",
       "      <td>health</td>\n",
       "      <td>0.996526</td>\n",
       "      <td>2.382883</td>\n",
       "      <td>0.562016</td>\n",
       "      <td>0.321705</td>\n",
       "      <td>0.120155</td>\n",
       "      <td>0.042636</td>\n",
       "      <td>...</td>\n",
       "      <td>55</td>\n",
       "      <td>0</td>\n",
       "      <td>2240</td>\n",
       "      <td>258</td>\n",
       "      <td>11</td>\n",
       "      <td>0.166667</td>\n",
       "      <td>0.057613</td>\n",
       "      <td>1</td>\n",
       "      <td>Fruits that Fight the Flu fruits that fight th...</td>\n",
       "      <td>Apples The most popular source of antioxidants...</td>\n",
       "    </tr>\n",
       "    <tr>\n",
       "      <th>3</th>\n",
       "      <td>http://www.dumblittleman.com/2007/12/10-foolpr...</td>\n",
       "      <td>6684</td>\n",
       "      <td>{\"title\":\"10 Foolproof Tips for Better Sleep \"...</td>\n",
       "      <td>health</td>\n",
       "      <td>0.801248</td>\n",
       "      <td>1.543103</td>\n",
       "      <td>0.400000</td>\n",
       "      <td>0.100000</td>\n",
       "      <td>0.016667</td>\n",
       "      <td>0.000000</td>\n",
       "      <td>...</td>\n",
       "      <td>24</td>\n",
       "      <td>0</td>\n",
       "      <td>2737</td>\n",
       "      <td>120</td>\n",
       "      <td>5</td>\n",
       "      <td>0.041667</td>\n",
       "      <td>0.100858</td>\n",
       "      <td>1</td>\n",
       "      <td>10 Foolproof Tips for Better Sleep</td>\n",
       "      <td>There was a period in my life when I had a lot...</td>\n",
       "    </tr>\n",
       "    <tr>\n",
       "      <th>4</th>\n",
       "      <td>http://bleacherreport.com/articles/1205138-the...</td>\n",
       "      <td>9006</td>\n",
       "      <td>{\"title\":\"The 50 Coolest Jerseys You Didn t Kn...</td>\n",
       "      <td>sports</td>\n",
       "      <td>0.719157</td>\n",
       "      <td>2.676471</td>\n",
       "      <td>0.500000</td>\n",
       "      <td>0.222222</td>\n",
       "      <td>0.123457</td>\n",
       "      <td>0.043210</td>\n",
       "      <td>...</td>\n",
       "      <td>14</td>\n",
       "      <td>0</td>\n",
       "      <td>12032</td>\n",
       "      <td>162</td>\n",
       "      <td>10</td>\n",
       "      <td>0.098765</td>\n",
       "      <td>0.082569</td>\n",
       "      <td>0</td>\n",
       "      <td>The 50 Coolest Jerseys You Didn t Know Existed...</td>\n",
       "      <td>Jersey sales is a curious business Whether you...</td>\n",
       "    </tr>\n",
       "  </tbody>\n",
       "</table>\n",
       "<p>5 rows × 29 columns</p>\n",
       "</div>"
      ],
      "text/plain": [
       "                                                 url  urlid  \\\n",
       "0  http://www.bloomberg.com/news/2010-12-23/ibm-p...   4042   \n",
       "1  http://www.popsci.com/technology/article/2012-...   8471   \n",
       "2  http://www.menshealth.com/health/flu-fighting-...   1164   \n",
       "3  http://www.dumblittleman.com/2007/12/10-foolpr...   6684   \n",
       "4  http://bleacherreport.com/articles/1205138-the...   9006   \n",
       "\n",
       "                                         boilerplate alchemy_category  \\\n",
       "0  {\"title\":\"IBM Sees Holographic Calls Air Breat...         business   \n",
       "1  {\"title\":\"The Fully Electronic Futuristic Star...       recreation   \n",
       "2  {\"title\":\"Fruits that Fight the Flu fruits tha...           health   \n",
       "3  {\"title\":\"10 Foolproof Tips for Better Sleep \"...           health   \n",
       "4  {\"title\":\"The 50 Coolest Jerseys You Didn t Kn...           sports   \n",
       "\n",
       "  alchemy_category_score  avglinksize  commonlinkratio_1  commonlinkratio_2  \\\n",
       "0               0.789131     2.055556           0.676471           0.205882   \n",
       "1               0.574147     3.677966           0.508021           0.288770   \n",
       "2               0.996526     2.382883           0.562016           0.321705   \n",
       "3               0.801248     1.543103           0.400000           0.100000   \n",
       "4               0.719157     2.676471           0.500000           0.222222   \n",
       "\n",
       "   commonlinkratio_3  commonlinkratio_4  \\\n",
       "0           0.047059           0.023529   \n",
       "1           0.213904           0.144385   \n",
       "2           0.120155           0.042636   \n",
       "3           0.016667           0.000000   \n",
       "4           0.123457           0.043210   \n",
       "\n",
       "                         ...                          linkwordscore  \\\n",
       "0                        ...                                     24   \n",
       "1                        ...                                     40   \n",
       "2                        ...                                     55   \n",
       "3                        ...                                     24   \n",
       "4                        ...                                     14   \n",
       "\n",
       "   news_front_page  non_markup_alphanum_characters  numberOfLinks  \\\n",
       "0                0                            5424            170   \n",
       "1                0                            4973            187   \n",
       "2                0                            2240            258   \n",
       "3                0                            2737            120   \n",
       "4                0                           12032            162   \n",
       "\n",
       "   numwords_in_url  parametrizedLinkRatio  spelling_errors_ratio label  \\\n",
       "0                8               0.152941               0.079130     0   \n",
       "1                9               0.181818               0.125448     1   \n",
       "2               11               0.166667               0.057613     1   \n",
       "3                5               0.041667               0.100858     1   \n",
       "4               10               0.098765               0.082569     0   \n",
       "\n",
       "                                               title  \\\n",
       "0  IBM Sees Holographic Calls Air Breathing Batte...   \n",
       "1  The Fully Electronic Futuristic Starting Gun T...   \n",
       "2  Fruits that Fight the Flu fruits that fight th...   \n",
       "3                10 Foolproof Tips for Better Sleep    \n",
       "4  The 50 Coolest Jerseys You Didn t Know Existed...   \n",
       "\n",
       "                                                body  \n",
       "0  A sign stands outside the International Busine...  \n",
       "1  And that can be carried on a plane without the...  \n",
       "2  Apples The most popular source of antioxidants...  \n",
       "3  There was a period in my life when I had a lot...  \n",
       "4  Jersey sales is a curious business Whether you...  \n",
       "\n",
       "[5 rows x 29 columns]"
      ]
     },
     "execution_count": 3,
     "metadata": {},
     "output_type": "execute_result"
    }
   ],
   "source": [
    "# Import data\n",
    "df = pd.read_csv('stumbleupon.tsv', sep='\\t')\n",
    "df['title'] = df.boilerplate.map(lambda x: json.loads(x).get('title', ''))\n",
    "df['body'] = df.boilerplate.map(lambda x: json.loads(x).get('body', ''))\n",
    "\n",
    "df.head()"
   ]
  },
  {
   "cell_type": "markdown",
   "metadata": {},
   "source": [
    "## Demo: \"LDA in gensim\"\n",
    "\n",
    "Gensim is a library of language processing tools focused on latent variable models for text. It was originally developed by grad students dissatisfied with current implementations of latent models. Documentation and tutorials are available on the [package’s website](https://radimrehurek.com/gensim/index.html).\n",
    "\n",
    "\n",
    "Let’s first translate a set of documents (articles) into a matrix representation with a row per document and a column per feature (word or n-gram)."
   ]
  },
  {
   "cell_type": "code",
   "execution_count": 13,
   "metadata": {
    "collapsed": true
   },
   "outputs": [],
   "source": [
    "from sklearn.feature_extraction.text import CountVectorizer\n",
    "\n",
    "body_text = df.body.dropna()\n",
    "vectorizer = CountVectorizer(binary=False,\n",
    "                             stop_words='english',\n",
    "                             min_df=3,\n",
    "                             ngram_range=(1,2))\n",
    "vectorizer.fit(body_text)\n",
    "docs = vectorizer.transform(body_text) "
   ]
  },
  {
   "cell_type": "code",
   "execution_count": 14,
   "metadata": {},
   "outputs": [
    {
     "name": "stdout",
     "output_type": "stream",
     "text": [
      "add mayonnaise bejeweled consistency want\n"
     ]
    }
   ],
   "source": [
    "# Build a mapping of numerical ID to word\n",
    "id2word = dict(enumerate(vectorizer.get_feature_names()))\n",
    "print id2word[5000], id2word[10000], id2word[20000]"
   ]
  },
  {
   "cell_type": "markdown",
   "metadata": {},
   "source": [
    "- We want to learn which columns are correlated (i.e. likely to come from the same topic). This is the word distribution. \n",
    "- We can also determine what topics are in each document, the topic distribution."
   ]
  },
  {
   "cell_type": "code",
   "execution_count": 15,
   "metadata": {
    "collapsed": true
   },
   "outputs": [],
   "source": [
    "from gensim.models.ldamodel import LdaModel\n",
    "from gensim.matutils import Sparse2Corpus\n",
    "\n",
    "# First we convert our word-matrix into gensim's format\n",
    "corpus = Sparse2Corpus(docs, documents_columns=False)\n",
    "\n",
    "# Then we fit an LDA model\n",
    "lda_model = LdaModel(corpus=corpus, id2word=id2word, num_topics=5)"
   ]
  },
  {
   "cell_type": "markdown",
   "metadata": {},
   "source": [
    "In this model, we need to explicitly specify the number of topics we want the model to uncover. This is a critical parameter, but there isn’t much guidance on how to choose it.  Try to use domain expertise where possible.\n",
    "\n",
    "\n",
    "Now we need to assess the goodness of fit for our model. Like other unsupervised learning techniques, our validation techniques are mostly about interpretation.\n",
    "\n",
    "#### Use the following questions to guide you:\n",
    "\n",
    "- Did we learn reasonable topics?\n",
    "- Do the words that make up a topic make sense?\n",
    "- Is this topic helpful towards our goal?"
   ]
  },
  {
   "cell_type": "markdown",
   "metadata": {},
   "source": [
    "#### We can evaluate fit by viewing the top words in each topic.\n",
    "\n",
    "- Gensim has a `show_topics()` function for this."
   ]
  },
  {
   "cell_type": "code",
   "execution_count": 17,
   "metadata": {},
   "outputs": [
    {
     "name": "stdout",
     "output_type": "stream",
     "text": [
      "Topic: 0\n",
      "(0, u'0.004*\"like\" + 0.003*\"people\" + 0.003*\"just\" + 0.003*\"health\" + 0.003*\"time\" + 0.003*\"food\" + 0.003*\"make\" + 0.003*\"body\" + 0.002*\"new\" + 0.002*\"said\"')\n",
      "\n",
      "Topic: 1\n",
      "(1, u'0.005*\"sports\" + 0.005*\"flashvars\" + 0.004*\"2011\" + 0.004*\"com\" + 0.003*\"image\" + 0.003*\"world\" + 0.003*\"images\" + 0.002*\"link\" + 0.002*\"jpg\" + 0.002*\"track\"')\n",
      "\n",
      "Topic: 2\n",
      "(2, u'0.006*\"com\" + 0.004*\"http\" + 0.004*\"online\" + 0.004*\"www\" + 0.004*\"http www\" + 0.003*\"new\" + 0.003*\"2009\" + 0.003*\"2010\" + 0.003*\"news\" + 0.002*\"like\"')\n",
      "\n",
      "Topic: 3\n",
      "(3, u'0.008*\"cup\" + 0.008*\"chocolate\" + 0.007*\"butter\" + 0.006*\"sugar\" + 0.005*\"baking\" + 0.005*\"recipe\" + 0.005*\"make\" + 0.005*\"minutes\" + 0.004*\"cake\" + 0.004*\"add\"')\n",
      "\n",
      "Topic: 4\n",
      "(4, u'0.005*\"recipe\" + 0.004*\"add\" + 0.004*\"chicken\" + 0.004*\"recipes\" + 0.004*\"cheese\" + 0.004*\"minutes\" + 0.003*\"cup\" + 0.003*\"make\" + 0.003*\"just\" + 0.003*\"like\"')\n",
      "\n"
     ]
    }
   ],
   "source": [
    "for ti, topic in enumerate(lda_model.show_topics(num_topics=5, num_words=10)):\n",
    "    print \"Topic: {}\".format(ti)\n",
    "    print topic\n",
    "    print"
   ]
  },
  {
   "cell_type": "markdown",
   "metadata": {},
   "source": [
    "#### Let's now use our fitted model to predict topics for some new data\n",
    "\n",
    "(examples taken from http://www.buzzfeed.com/babymantis/25-stupid-newspaper-headlines-1opu)"
   ]
  },
  {
   "cell_type": "code",
   "execution_count": 18,
   "metadata": {},
   "outputs": [
    {
     "name": "stdout",
     "output_type": "stream",
     "text": [
      "[(28589, 1), (31548, 1), (35775, 1), (39060, 1), (45294, 1), (74370, 1)]\n",
      "[(u'ears', 1), (u'eyes', 1), (u'frog', 1), (u'grow', 1), (u'japanese', 1), (u'scientists', 1)]\n"
     ]
    }
   ],
   "source": [
    "new_text = [\n",
    "    \"Japanese scientists grow frog eyes and ears\",\n",
    "    \"Statistics show that teen pregnancy drops of significantly after age 25\",\n",
    "    \"Bugs flying around with wings are flying bugs\",\n",
    "    \"Federal agents raid gun shop, find weapons\",\n",
    "    \"Marijuana issue sent to a joint committee\"\n",
    "]\n",
    "\n",
    "# Transform the text into the bag-of-words (bow) space using our vectorizer\n",
    "new_bow = vectorizer.transform(new_text)\n",
    "\n",
    "# Transform into format expected by gensim\n",
    "new_corpus = Sparse2Corpus(new_bow, documents_columns=False)\n",
    "\n",
    "# Print out first entry + matching words\n",
    "print list(new_corpus)[0]\n",
    "print [(id2word[id], count) for id, count in list(new_corpus)[0]]"
   ]
  },
  {
   "cell_type": "markdown",
   "metadata": {},
   "source": [
    "#### Transform into LDA space by applying fitted LDA model to the corpus"
   ]
  },
  {
   "cell_type": "code",
   "execution_count": 19,
   "metadata": {
    "collapsed": true
   },
   "outputs": [],
   "source": [
    "lda_vector = lda_model[new_corpus]"
   ]
  },
  {
   "cell_type": "markdown",
   "metadata": {},
   "source": [
    "#### For each entry we can extract a tuple indicating how much it makes part of each topic"
   ]
  },
  {
   "cell_type": "code",
   "execution_count": 20,
   "metadata": {},
   "outputs": [
    {
     "data": {
      "text/plain": [
       "[[(0, 0.88390465062556722),\n",
       "  (1, 0.029006546314757485),\n",
       "  (2, 0.029291835346880516),\n",
       "  (3, 0.028803645500547946),\n",
       "  (4, 0.028993322212246781)],\n",
       " [(0, 0.4098334184376039),\n",
       "  (1, 0.52257446875346902),\n",
       "  (2, 0.022580739804032787),\n",
       "  (3, 0.022565289783851226),\n",
       "  (4, 0.022446083221043054)],\n",
       " [(0, 0.58809330216769051),\n",
       "  (1, 0.034308279205680088),\n",
       "  (2, 0.034544040128471384),\n",
       "  (3, 0.033635485468756471),\n",
       "  (4, 0.30941889302940156)],\n",
       " [(0, 0.029203262020429051),\n",
       "  (1, 0.028776980917551143),\n",
       "  (2, 0.88467240469170949),\n",
       "  (3, 0.028662571631090851),\n",
       "  (4, 0.028684780739219474)],\n",
       " [(0, 0.86450575101866878),\n",
       "  (1, 0.034351822976431197),\n",
       "  (2, 0.034149044751454895),\n",
       "  (3, 0.033454408491716547),\n",
       "  (4, 0.033538972761728555)]]"
      ]
     },
     "execution_count": 20,
     "metadata": {},
     "output_type": "execute_result"
    }
   ],
   "source": [
    "[list(lda_vec) for lda_vec in lda_vector]"
   ]
  },
  {
   "cell_type": "markdown",
   "metadata": {},
   "source": [
    "#### Extract most prominent LDA topics for each entry"
   ]
  },
  {
   "cell_type": "code",
   "execution_count": 21,
   "metadata": {},
   "outputs": [
    {
     "data": {
      "text/plain": [
       "[(0, 0.88389727440813137),\n",
       " (1, 0.52266317561652986),\n",
       " (2, 0.86331326205235503),\n",
       " (2, 0.88465899869202425),\n",
       " (0, 0.86450791791318971)]"
      ]
     },
     "execution_count": 21,
     "metadata": {},
     "output_type": "execute_result"
    }
   ],
   "source": [
    "top_topics = [max(x, key=lambda item: item[1]) for x in list(lda_vector)]\n",
    "top_topics"
   ]
  },
  {
   "cell_type": "markdown",
   "metadata": {},
   "source": [
    "#### Print out text + topic"
   ]
  },
  {
   "cell_type": "code",
   "execution_count": 22,
   "metadata": {},
   "outputs": [
    {
     "name": "stdout",
     "output_type": "stream",
     "text": [
      "Japanese scientists grow frog eyes and ears\n",
      "88.4% as topic #0:\n",
      "0.004*\"like\" + 0.003*\"people\" + 0.003*\"just\" + 0.003*\"health\" + 0.003*\"time\" + 0.003*\"food\" + 0.003*\"make\" + 0.003*\"body\" + 0.002*\"new\" + 0.002*\"said\" \n",
      "\n",
      "Statistics show that teen pregnancy drops of significantly after age 25\n",
      "52.3% as topic #1:\n",
      "0.005*\"sports\" + 0.005*\"flashvars\" + 0.004*\"2011\" + 0.004*\"com\" + 0.003*\"image\" + 0.003*\"world\" + 0.003*\"images\" + 0.002*\"link\" + 0.002*\"jpg\" + 0.002*\"track\" \n",
      "\n",
      "Bugs flying around with wings are flying bugs\n",
      "86.3% as topic #2:\n",
      "0.006*\"com\" + 0.004*\"http\" + 0.004*\"online\" + 0.004*\"www\" + 0.004*\"http www\" + 0.003*\"new\" + 0.003*\"2009\" + 0.003*\"2010\" + 0.003*\"news\" + 0.002*\"like\" \n",
      "\n",
      "Federal agents raid gun shop, find weapons\n",
      "88.5% as topic #2:\n",
      "0.006*\"com\" + 0.004*\"http\" + 0.004*\"online\" + 0.004*\"www\" + 0.004*\"http www\" + 0.003*\"new\" + 0.003*\"2009\" + 0.003*\"2010\" + 0.003*\"news\" + 0.002*\"like\" \n",
      "\n",
      "Marijuana issue sent to a joint committee\n",
      "86.5% as topic #0:\n",
      "0.004*\"like\" + 0.003*\"people\" + 0.003*\"just\" + 0.003*\"health\" + 0.003*\"time\" + 0.003*\"food\" + 0.003*\"make\" + 0.003*\"body\" + 0.002*\"new\" + 0.002*\"said\" \n",
      "\n"
     ]
    }
   ],
   "source": [
    "for i, topic_tuple in enumerate(top_topics):\n",
    "    print new_text[i]\n",
    "    print \"{0:.1f}% as topic #{1}:\".format(100 * topic_tuple[1], topic_tuple[0])\n",
    "    print lda_model.print_topic(topic_tuple[0],topn=10), \"\\n\""
   ]
  },
  {
   "cell_type": "markdown",
   "metadata": {},
   "source": [
    "For more examples on using LDA with gensim, see: http://radimrehurek.com/topic_modeling_tutorial/2%20-%20Topic%20Modeling.html"
   ]
  }
 ],
 "metadata": {
  "anaconda-cloud": {},
  "kernelspec": {
   "display_name": "Python 3",
   "language": "python",
   "name": "python3"
  },
  "language_info": {
   "codemirror_mode": {
    "name": "ipython",
    "version": 3
   },
   "file_extension": ".py",
   "mimetype": "text/x-python",
   "name": "python",
   "nbconvert_exporter": "python",
   "pygments_lexer": "ipython3",
   "version": "3.6.10"
  }
 },
 "nbformat": 4,
 "nbformat_minor": 1
}
